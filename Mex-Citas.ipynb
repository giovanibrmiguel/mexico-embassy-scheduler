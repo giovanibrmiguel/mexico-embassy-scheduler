{
 "cells": [
  {
   "cell_type": "code",
   "execution_count": 1,
   "id": "31cac251",
   "metadata": {},
   "outputs": [],
   "source": [
    "from selenium import webdriver"
   ]
  },
  {
   "cell_type": "code",
   "execution_count": 2,
   "id": "08a70a22",
   "metadata": {},
   "outputs": [
    {
     "name": "stderr",
     "output_type": "stream",
     "text": [
      "/var/folders/3c/5w3x89md52x0xvd19k9t0sy40000gn/T/ipykernel_12191/3297701180.py:4: DeprecationWarning: executable_path has been deprecated, please pass in a Service object\n",
      "  driver = webdriver.Firefox(executable_path=r'/Applications/geckodriver', options=options)\n"
     ]
    }
   ],
   "source": [
    "from selenium.webdriver.firefox.options import Options\n",
    "from selenium.webdriver.common.action_chains import ActionChains\n",
    "options = Options()\n",
    "driver = webdriver.Firefox(executable_path=r'/Applications/geckodriver', options=options)"
   ]
  },
  {
   "cell_type": "code",
   "execution_count": 3,
   "id": "2b944bab",
   "metadata": {},
   "outputs": [],
   "source": [
    "import time\n",
    "from selenium.webdriver.common.keys import Keys\n",
    "import smtplib\n",
    "from email.mime.text import MIMEText\n",
    "from selenium.webdriver.common.by import By"
   ]
  },
  {
   "cell_type": "code",
   "execution_count": 4,
   "id": "425c988c",
   "metadata": {},
   "outputs": [],
   "source": [
    "# Your email and password\n",
    "email = \"email-address-dedicated-to-sending-alerts@gmail.com\"\n",
    "password = \"email-password\""
   ]
  },
  {
   "cell_type": "code",
   "execution_count": 5,
   "id": "accaad7b",
   "metadata": {},
   "outputs": [],
   "source": [
    "# login to the website\n",
    "driver.get(\"https://citas.sre.gob.mx/\")"
   ]
  },
  {
   "cell_type": "code",
   "execution_count": null,
   "id": "4b1bc423",
   "metadata": {},
   "outputs": [],
   "source": [
    "# Set up Chrome driver and go to the website\n",
    "# driver.get(\"https://citas.sre.gob.mx/\")\n",
    "# time.sleep(10)\n",
    "driver.get(\"https://citas.sre.gob.mx/appointment\")\n",
    "\n",
    "# Wait for the page to load\n",
    "time.sleep(15)\n",
    "\n",
    "current_page_source_unclicked = driver.find_element(By.XPATH, 'html').text\n",
    "\n",
    "# remove banner clicking on X\n",
    "banner_text = driver.find_element(By.XPATH, '/html/body/div[2]/div[3]/div[3]/div/div/div/div[2]/div[1]/div/div/div/div/div/div/div')\n",
    "ac = ActionChains(driver)\n",
    "ac.move_to_element(banner_text).move_by_offset(280, 0).click().perform()\n",
    "time.sleep(2)\n",
    "\n",
    "# expand selection\n",
    "clickable_ver_mais = driver.find_element(By.XPATH, '/html/body/div[2]/div[3]/div[3]/div/div/div/div[2]/div[1]/form/div[2]/div/div[3]/div/div/div/div[2]/p[4]/a')\n",
    "clickable_ver_mais.click()\n",
    "time.sleep(2)\n",
    "\n",
    "# Get the current page source\n",
    "current_page_source = driver.find_element(By.XPATH, 'html').text\n",
    "# current_page_source = driver.page_source\n",
    "\n",
    "while True:\n",
    "    # Refresh the page every 30 seconds\n",
    "    time.sleep(25)\n",
    "    driver.refresh()\n",
    "    time.sleep(15)\n",
    "    \n",
    "    try:\n",
    "        new_page_source_unclicked = driver.find_element(By.XPATH, 'html').text\n",
    "    except:\n",
    "        new_page_source_unclicked = 'new_page_source_unclicked_error'\n",
    "    \n",
    "    \n",
    "    # remove banner clicking on X\n",
    "    \n",
    "    try:\n",
    "        banner_text = driver.find_element(By.XPATH, '/html/body/div[2]/div[3]/div[3]/div/div/div/div[2]/div[1]/div/div/div/div/div/div/div')\n",
    "        ac = ActionChains(driver)\n",
    "        ac.move_to_element(banner_text).move_by_offset(280, 0).click().perform()\n",
    "    except:\n",
    "        banner_text = \"banner_error\"\n",
    "    time.sleep(3)\n",
    "\n",
    "    # expand selection\n",
    "    try:\n",
    "        clickable_ver_mais = driver.find_element(By.XPATH, '/html/body/div[2]/div[3]/div[3]/div/div/div/div[2]/div[1]/form/div[2]/div/div[3]/div/div/div/div[2]/p[4]/a')\n",
    "        clickable_ver_mais.click()\n",
    "    except:\n",
    "        clickable_ver_mais = 'clickable_ver_mais_error'\n",
    "    time.sleep(2)\n",
    "\n",
    "    # Get the new page source\n",
    "    try:\n",
    "        new_page_source = driver.find_element(By.XPATH, 'html').text\n",
    "    except:\n",
    "        new_page_source = 'new_page_source_error'\n",
    "#     new_page_source = driver.page_source\n",
    "\n",
    "    # Compare the current page source with the new page source\n",
    "    if (current_page_source != new_page_source) or (current_page_source_unclicked != new_page_source_unclicked):\n",
    "        # Send an email if the page has changed\n",
    "        msg = MIMEText(\"WARNING: The website https://citas.sre.gob.mx/ has changed.\")\n",
    "        msg['Subject'] = 'WARNING'\n",
    "        msg['From'] = email\n",
    "        msg['To'] = 'your-persona-email@gmail.com'\n",
    "\n",
    "        # Log in to your email account and send the email\n",
    "        server = smtplib.SMTP('smtp.gmail.com', 587)\n",
    "        server.starttls()\n",
    "        server.login(email, 'update-with-pass')\n",
    "        server.sendmail(email, ['your-persona-email@gmail.com'], msg.as_string())\n",
    "        server.quit()\n",
    "\n",
    "        # Update the current page source\n",
    "        break\n"
   ]
  }
 ],
 "metadata": {
  "kernelspec": {
   "display_name": "Python 3 (ipykernel)",
   "language": "python",
   "name": "python3"
  },
  "language_info": {
   "codemirror_mode": {
    "name": "ipython",
    "version": 3
   },
   "file_extension": ".py",
   "mimetype": "text/x-python",
   "name": "python",
   "nbconvert_exporter": "python",
   "pygments_lexer": "ipython3",
   "version": "3.9.12"
  }
 },
 "nbformat": 4,
 "nbformat_minor": 5
}
